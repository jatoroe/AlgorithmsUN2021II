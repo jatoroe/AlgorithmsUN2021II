{
  "nbformat": 4,
  "nbformat_minor": 0,
  "metadata": {
    "colab": {
      "name": "AlgorithmicToolboxWeek2Group28.ipynb",
      "provenance": [],
      "collapsed_sections": [],
      "authorship_tag": "ABX9TyPpYotZGJT685Ewmo9FXjWT",
      "include_colab_link": true
    },
    "kernelspec": {
      "name": "python3",
      "display_name": "Python 3"
    },
    "language_info": {
      "name": "python"
    }
  },
  "cells": [
    {
      "cell_type": "markdown",
      "metadata": {
        "id": "view-in-github",
        "colab_type": "text"
      },
      "source": [
        "<a href=\"https://colab.research.google.com/github/gimoralesg/AlgorithmsUN2021II/blob/main/Lab8/AlgorithmicToolboxWeek2Group28.ipynb\" target=\"_parent\"><img src=\"https://colab.research.google.com/assets/colab-badge.svg\" alt=\"Open In Colab\"/></a>"
      ]
    },
    {
      "cell_type": "markdown",
      "source": [
        "# **Semana 2 - Algorithmic Toolbox problemas**\n"
      ],
      "metadata": {
        "id": "I6YUDAQ91yP5"
      }
    },
    {
      "cell_type": "markdown",
      "source": [
        "##**1. Fibonacci Number**"
      ],
      "metadata": {
        "id": "vNrOuUck2rOk"
      }
    },
    {
      "cell_type": "code",
      "execution_count": 1,
      "metadata": {
        "id": "7yM78Ipmzayi"
      },
      "outputs": [],
      "source": [
        "def fib_list(n):\n",
        "  fib_arr = []\n",
        "  fib_arr.insert(0,0)\n",
        "  fib_arr.insert(1,1)\n",
        "  for i in range(2,n+1):\n",
        "    fib_arr.append(fib_arr[i-1] + fib_arr[i-2]) \n",
        "  \n",
        "  return fib_arr[n]"
      ]
    },
    {
      "cell_type": "code",
      "source": [
        "n = int(input())\n",
        "print(fib_list(n))"
      ],
      "metadata": {
        "colab": {
          "base_uri": "https://localhost:8080/"
        },
        "id": "uknZ-c8-3AZM",
        "outputId": "5eba45e3-3a8e-4106-e5ea-afa0a099badd"
      },
      "execution_count": 4,
      "outputs": [
        {
          "output_type": "stream",
          "name": "stdout",
          "text": [
            "20\n",
            "6765\n"
          ]
        }
      ]
    },
    {
      "cell_type": "markdown",
      "source": [
        "##**2.Last Digit of Fibonacci Number**"
      ],
      "metadata": {
        "id": "_pLXDFLN3Nc7"
      }
    },
    {
      "cell_type": "code",
      "source": [
        "def lastdigitfib(n):\n",
        "  fib_arr = []\n",
        "  fib_arr.insert(0,0)\n",
        "  fib_arr.insert(1,1)\n",
        "  for i in range(2,n+1):\n",
        "    fib_arr.append((fib_arr[i-1] + fib_arr[i-2])%10)\n",
        "\n",
        "  return fib_arr[n]"
      ],
      "metadata": {
        "id": "SxvbTQGn3Xob"
      },
      "execution_count": 5,
      "outputs": []
    },
    {
      "cell_type": "code",
      "source": [
        "n = int(input())\n",
        "print(lastdigitfib(n))"
      ],
      "metadata": {
        "colab": {
          "base_uri": "https://localhost:8080/"
        },
        "id": "FvX_epTd3tHx",
        "outputId": "ec851cd6-854e-4a1a-be8e-bacf45f3b601"
      },
      "execution_count": 6,
      "outputs": [
        {
          "output_type": "stream",
          "name": "stdout",
          "text": [
            "20\n",
            "5\n"
          ]
        }
      ]
    },
    {
      "cell_type": "markdown",
      "source": [
        "##**3. Greatest Common Divisor**"
      ],
      "metadata": {
        "id": "1LqmQ2yj39jB"
      }
    },
    {
      "cell_type": "code",
      "source": [
        "def GCDeff(a,b):\n",
        "  if(b==0):\n",
        "    return a\n",
        "  r = a % b\n",
        "  return GCDeff(b,r)"
      ],
      "metadata": {
        "id": "CxyDVd1K4FpI"
      },
      "execution_count": 11,
      "outputs": []
    },
    {
      "cell_type": "code",
      "source": [
        "a,b = map(int, input().split())\n",
        "print(GCDeff(a,b))"
      ],
      "metadata": {
        "colab": {
          "base_uri": "https://localhost:8080/"
        },
        "id": "lYrznpKo4QWA",
        "outputId": "bce3f6f6-7302-4ceb-df36-201383af8c68"
      },
      "execution_count": 13,
      "outputs": [
        {
          "output_type": "stream",
          "name": "stdout",
          "text": [
            "28851538 1183019\n",
            "17657\n"
          ]
        }
      ]
    },
    {
      "cell_type": "markdown",
      "source": [
        "##**4. Least Common Multiple**"
      ],
      "metadata": {
        "id": "4dh3G7vq5Cem"
      }
    },
    {
      "cell_type": "code",
      "source": [
        "def GCDeff(a,b):\n",
        "  if(b==0):\n",
        "    return a\n",
        "  r = a % b\n",
        "  return GCDeff(b,r)\n",
        "\n",
        "def MCMeff(a,b):\n",
        "  mcm = (a*b)//GCDeff(a,b)\n",
        "  return mcm"
      ],
      "metadata": {
        "id": "_ML4vJD-5Iku"
      },
      "execution_count": 15,
      "outputs": []
    },
    {
      "cell_type": "code",
      "source": [
        "a,b = map(int, input().split())\n",
        "print(MCMeff(a,b))"
      ],
      "metadata": {
        "colab": {
          "base_uri": "https://localhost:8080/"
        },
        "id": "wrrijBY25osD",
        "outputId": "154a937a-e09a-4222-9ef3-77262b68d359"
      },
      "execution_count": 16,
      "outputs": [
        {
          "output_type": "stream",
          "name": "stdout",
          "text": [
            "28851538 1183019\n",
            "1933053046\n"
          ]
        }
      ]
    },
    {
      "cell_type": "markdown",
      "source": [
        "##  Submissions Screenhsoots"
      ],
      "metadata": {
        "id": "sK2ajFY8Fq2J"
      }
    },
    {
      "cell_type": "markdown",
      "source": [
        "![scGianMorales](https://raw.githubusercontent.com/gimoralesg/AlgorithmsUN2021II/main/Lab8/sc_week_8coursera.png)"
      ],
      "metadata": {
        "id": "oiku0s1jFxQH"
      }
    }
  ]
}