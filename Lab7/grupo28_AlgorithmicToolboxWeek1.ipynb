{
  "nbformat": 4,
  "nbformat_minor": 0,
  "metadata": {
    "colab": {
      "name": "grupo28_AlgorithmicToolboxWeek1.ipynb",
      "provenance": [],
      "collapsed_sections": [],
      "include_colab_link": true
    },
    "kernelspec": {
      "name": "python3",
      "display_name": "Python 3"
    },
    "language_info": {
      "name": "python"
    }
  },
  "cells": [
    {
      "cell_type": "markdown",
      "metadata": {
        "id": "view-in-github",
        "colab_type": "text"
      },
      "source": [
        "<a href=\"https://colab.research.google.com/github/gimoralesg/AlgorithmsUN2021II/blob/main/Lab7/grupo28_AlgorithmicToolboxWeek1.ipynb\" target=\"_parent\"><img src=\"https://colab.research.google.com/assets/colab-badge.svg\" alt=\"Open In Colab\"/></a>"
      ]
    },
    {
      "cell_type": "markdown",
      "metadata": {
        "id": "N1ok_-56OjB1"
      },
      "source": [
        "# I Solving the Sum of Two Digits Programming Challenge"
      ]
    },
    {
      "cell_type": "markdown",
      "metadata": {
        "id": "MMY7kmDSO0KM"
      },
      "source": [
        "## C++"
      ]
    },
    {
      "cell_type": "code",
      "metadata": {
        "colab": {
          "base_uri": "https://localhost:8080/"
        },
        "id": "2pGGf9BkPNIk",
        "outputId": "48eecbdf-aedb-42f7-97df-c4fc0ce7dad6"
      },
      "source": [
        "%%writefile APlusB.cpp\n",
        "#include <iostream>\n",
        "\n",
        "int sum_of_two_digits(int first_digit, int second_digit) {\n",
        "    return first_digit + second_digit;\n",
        "}\n",
        "\n",
        "int main() {\n",
        "    int a = 0;\n",
        "    int b = 0;\n",
        "    std::cin >> a;\n",
        "    std::cin >> b;\n",
        "    std::cout << sum_of_two_digits(a, b);\n",
        "    return 0;\n",
        "}"
      ],
      "execution_count": null,
      "outputs": [
        {
          "output_type": "stream",
          "name": "stdout",
          "text": [
            "Writing APlusB.cpp\n"
          ]
        }
      ]
    },
    {
      "cell_type": "code",
      "metadata": {
        "colab": {
          "base_uri": "https://localhost:8080/"
        },
        "id": "0G3ZKOYAPXSU",
        "outputId": "0a5dcd98-7d23-4158-99e2-1ed6966a1016"
      },
      "source": [
        "!g++ APlusB.cpp -o APlusB\n",
        "!./APlusB"
      ],
      "execution_count": null,
      "outputs": [
        {
          "output_type": "stream",
          "name": "stdout",
          "text": [
            "4 10\n",
            "14"
          ]
        }
      ]
    },
    {
      "cell_type": "markdown",
      "metadata": {
        "id": "iNkG2HqfTl9c"
      },
      "source": [
        "### Test input output files"
      ]
    },
    {
      "cell_type": "code",
      "metadata": {
        "colab": {
          "base_uri": "https://localhost:8080/"
        },
        "id": "aTzU2efzMxly",
        "outputId": "c5b6deda-03ca-4bcc-e75b-38e8de1fcdee"
      },
      "source": [
        "%%writefile input1.txt\n",
        "4 8"
      ],
      "execution_count": null,
      "outputs": [
        {
          "output_type": "stream",
          "name": "stdout",
          "text": [
            "Writing input1.txt\n"
          ]
        }
      ]
    },
    {
      "cell_type": "markdown",
      "metadata": {
        "id": "pdkfsvs-T0Wr"
      },
      "source": [
        ""
      ]
    },
    {
      "cell_type": "code",
      "metadata": {
        "colab": {
          "base_uri": "https://localhost:8080/"
        },
        "id": "zBJ0Gc0NQRet",
        "outputId": "67219fb3-7e55-40af-8ee4-deada7384695"
      },
      "source": [
        "%%writefile output1.txt\n",
        "12"
      ],
      "execution_count": null,
      "outputs": [
        {
          "output_type": "stream",
          "text": [
            "Overwriting output1.txt\n"
          ],
          "name": "stdout"
        }
      ]
    },
    {
      "cell_type": "code",
      "metadata": {
        "colab": {
          "base_uri": "https://localhost:8080/"
        },
        "id": "IjEcIx63PJAN",
        "outputId": "3240ee72-df71-4592-8cb0-57fc8d1a7453"
      },
      "source": [
        "%%writefile input2.txt\n",
        "-5 9"
      ],
      "execution_count": null,
      "outputs": [
        {
          "output_type": "stream",
          "text": [
            "Overwriting input2.txt\n"
          ],
          "name": "stdout"
        }
      ]
    },
    {
      "cell_type": "code",
      "metadata": {
        "colab": {
          "base_uri": "https://localhost:8080/"
        },
        "id": "Up9gOrxURTmd",
        "outputId": "856b79e0-46b1-4c93-d4fa-eb0f3db7847d"
      },
      "source": [
        "%%writefile output2.txt\n",
        "4"
      ],
      "execution_count": null,
      "outputs": [
        {
          "output_type": "stream",
          "text": [
            "Overwriting output2.txt\n"
          ],
          "name": "stdout"
        }
      ]
    },
    {
      "cell_type": "code",
      "metadata": {
        "colab": {
          "base_uri": "https://localhost:8080/"
        },
        "id": "PST6G-s-Pwgc",
        "outputId": "1ffae13c-98c4-47d0-b3ef-317e4a855ec0"
      },
      "source": [
        "!./APlusB < input1.txt"
      ],
      "execution_count": null,
      "outputs": [
        {
          "output_type": "stream",
          "text": [
            "12"
          ],
          "name": "stdout"
        }
      ]
    },
    {
      "cell_type": "code",
      "metadata": {
        "colab": {
          "base_uri": "https://localhost:8080/"
        },
        "id": "cKxZOjSlRfIN",
        "outputId": "a132b940-176c-43fb-dc88-9d1b7a8b2607"
      },
      "source": [
        "!./APlusB < input2.txt"
      ],
      "execution_count": null,
      "outputs": [
        {
          "output_type": "stream",
          "text": [
            "4"
          ],
          "name": "stdout"
        }
      ]
    },
    {
      "cell_type": "markdown",
      "metadata": {
        "id": "Qw2TQWCCUwqk"
      },
      "source": [
        "### Comparing files with grep\n",
        "\n",
        "https://askubuntu.com/questions/546796/comparing-two-text-files"
      ]
    },
    {
      "cell_type": "code",
      "metadata": {
        "id": "WVIaAmMKU4QM"
      },
      "source": [
        "!grep -xvFf output1.txt output1.txt "
      ],
      "execution_count": null,
      "outputs": []
    },
    {
      "cell_type": "code",
      "metadata": {
        "colab": {
          "base_uri": "https://localhost:8080/"
        },
        "id": "MQU8gPPjQuYO",
        "outputId": "aa7bd22c-a990-4c3e-95a3-245a263f440f"
      },
      "source": [
        "!grep -xvFf output1.txt output2.txt "
      ],
      "execution_count": null,
      "outputs": [
        {
          "output_type": "stream",
          "text": [
            "4\n"
          ],
          "name": "stdout"
        }
      ]
    },
    {
      "cell_type": "code",
      "metadata": {
        "colab": {
          "base_uri": "https://localhost:8080/"
        },
        "id": "jYL9OuYBTD_l",
        "outputId": "971cb7af-db13-4a14-cf6d-a2d00149d320"
      },
      "source": [
        "!grep -xvFf output2.txt output1.txt "
      ],
      "execution_count": null,
      "outputs": [
        {
          "output_type": "stream",
          "text": [
            "12\n"
          ],
          "name": "stdout"
        }
      ]
    },
    {
      "cell_type": "code",
      "metadata": {
        "id": "Jlja0Xm4TX9M"
      },
      "source": [
        "!./APlusB < input1.txt> ctest1.txt\n",
        "!grep -xvFf output1.txt ctest1.txt"
      ],
      "execution_count": null,
      "outputs": []
    },
    {
      "cell_type": "code",
      "metadata": {
        "id": "g9OIUZA_QLCQ"
      },
      "source": [
        "!./APlusB < input2.txt > ctest2.txt\n",
        "!grep -xvFf output2.txt ctest2.txt"
      ],
      "execution_count": null,
      "outputs": []
    },
    {
      "cell_type": "markdown",
      "metadata": {
        "id": "3BgOaDjUVJk6"
      },
      "source": [
        "## Python"
      ]
    },
    {
      "cell_type": "code",
      "metadata": {
        "colab": {
          "base_uri": "https://localhost:8080/"
        },
        "id": "DBvl-T0CTN_8",
        "outputId": "a6fb70ad-9db0-452c-bec0-8d5f62be2189"
      },
      "source": [
        "%%writefile sum.py\n",
        "# python3\n",
        "\n",
        "def sum_of_two_digits(first_digit, second_digit):\n",
        "    return first_digit + second_digit\n",
        "\n",
        "if __name__ == '__main__':\n",
        "    a, b = map(int, input().split())\n",
        "    print(sum_of_two_digits(a, b))"
      ],
      "execution_count": null,
      "outputs": [
        {
          "output_type": "stream",
          "text": [
            "Overwriting sum.py\n"
          ],
          "name": "stdout"
        }
      ]
    },
    {
      "cell_type": "code",
      "metadata": {
        "colab": {
          "base_uri": "https://localhost:8080/"
        },
        "id": "QKoKM11_WGyF",
        "outputId": "e3867fb5-7d40-4ef1-ff1b-66c3135f67cb"
      },
      "source": [
        "!python sum.py"
      ],
      "execution_count": null,
      "outputs": [
        {
          "output_type": "stream",
          "text": [
            "32 90\n",
            "122\n"
          ],
          "name": "stdout"
        }
      ]
    },
    {
      "cell_type": "code",
      "metadata": {
        "id": "cocFbPRTWrqt"
      },
      "source": [
        "!python sum.py  < input1.txt> ptest1.txt\n",
        "!grep -xvFf output1.txt ptest1.txt"
      ],
      "execution_count": null,
      "outputs": []
    },
    {
      "cell_type": "code",
      "metadata": {
        "id": "MorKTa-XXASN"
      },
      "source": [
        "!python sum.py  < input2.txt> ptest2.txt\n",
        "!grep -xvFf output2.txt ptest2.txt"
      ],
      "execution_count": null,
      "outputs": []
    },
    {
      "cell_type": "markdown",
      "metadata": {
        "id": "uvP-mOubW_5F"
      },
      "source": [
        "# II Solving The Maximum Pairwise Product Programming Challenge in C++"
      ]
    },
    {
      "cell_type": "markdown",
      "metadata": {
        "id": "C12yoFR6Xonl"
      },
      "source": [
        "## C++"
      ]
    },
    {
      "cell_type": "code",
      "metadata": {
        "colab": {
          "base_uri": "https://localhost:8080/"
        },
        "id": "YL4qJX3tXxdd",
        "outputId": "76f550a6-b694-4086-951e-5aa1b3ac3845"
      },
      "source": [
        "%%writefile max_pairwise_product.cpp\n",
        "#include <iostream>\n",
        "#include <vector>\n",
        "#include <algorithm>\n",
        "\n",
        "int MaxPairwiseProduct(const std::vector<int>& numbers) {\n",
        "    int max_product = 0;\n",
        "    int n = numbers.size();\n",
        "\n",
        "    for (int first = 0; first < n; ++first) {\n",
        "        for (int second = first + 1; second < n; ++second) {\n",
        "            max_product = std::max(max_product,\n",
        "                numbers[first] * numbers[second]);\n",
        "        }\n",
        "    }\n",
        "\n",
        "    return max_product;\n",
        "}\n",
        "\n",
        "int main() {\n",
        "    int n;\n",
        "    std::cin >> n;\n",
        "    std::vector<int> numbers(n);\n",
        "    for (int i = 0; i < n; ++i) {\n",
        "        std::cin >> numbers[i];\n",
        "    }\n",
        "\n",
        "    std::cout << MaxPairwiseProduct(numbers) << \"\\n\";\n",
        "    return 0;\n",
        "}\n"
      ],
      "execution_count": null,
      "outputs": [
        {
          "output_type": "stream",
          "text": [
            "Overwriting max_pairwise_product.cpp\n"
          ],
          "name": "stdout"
        }
      ]
    },
    {
      "cell_type": "code",
      "metadata": {
        "colab": {
          "base_uri": "https://localhost:8080/"
        },
        "id": "KGxaEjvWX__O",
        "outputId": "3f856225-4011-46bf-dab1-05a7c27b2580"
      },
      "source": [
        "!g++ max_pairwise_product.cpp -o max_pairwise_product\n",
        "!./max_pairwise_product"
      ],
      "execution_count": null,
      "outputs": [
        {
          "output_type": "stream",
          "text": [
            "6\n",
            "23 1 89 56 34 5\n",
            "4984\n"
          ],
          "name": "stdout"
        }
      ]
    },
    {
      "cell_type": "markdown",
      "metadata": {
        "id": "e7KhxHGNS3i0"
      },
      "source": [
        "### Test 1: Small numbers"
      ]
    },
    {
      "cell_type": "code",
      "metadata": {
        "colab": {
          "base_uri": "https://localhost:8080/"
        },
        "id": "e1mmTzBgShT-",
        "outputId": "2c8b7f0a-d18b-4773-acf9-d4b9d88ace82"
      },
      "source": [
        "%%writefile input1.txt\n",
        "10\n",
        "1 2 3 4 5 6 7 8 9 10"
      ],
      "execution_count": null,
      "outputs": [
        {
          "output_type": "stream",
          "name": "stdout",
          "text": [
            "Writing input1.txt\n"
          ]
        }
      ]
    },
    {
      "cell_type": "code",
      "metadata": {
        "colab": {
          "base_uri": "https://localhost:8080/"
        },
        "id": "vy_uI0x7TCId",
        "outputId": "2783453a-1f2a-4243-f377-e8eee0e53ff5"
      },
      "source": [
        "!./max_pairwise_product < input1.txt"
      ],
      "execution_count": null,
      "outputs": [
        {
          "output_type": "stream",
          "text": [
            "90\n"
          ],
          "name": "stdout"
        }
      ]
    },
    {
      "cell_type": "markdown",
      "metadata": {
        "id": "IeZ3kTjpYmR9"
      },
      "source": [
        "### Test 2: largest input numbers 200000 200000 in the input"
      ]
    },
    {
      "cell_type": "code",
      "metadata": {
        "colab": {
          "base_uri": "https://localhost:8080/"
        },
        "id": "LQNlZqaqYt7U",
        "outputId": "f8a72a96-8cef-4d67-a260-74e8188c00b7"
      },
      "source": [
        "%%writefile input2.txt\n",
        "6\n",
        "1 3 200000 9 200000 23"
      ],
      "execution_count": null,
      "outputs": [
        {
          "output_type": "stream",
          "name": "stdout",
          "text": [
            "Writing input2.txt\n"
          ]
        }
      ]
    },
    {
      "cell_type": "code",
      "metadata": {
        "colab": {
          "base_uri": "https://localhost:8080/"
        },
        "id": "2Wad2VZUZDxR",
        "outputId": "53715137-ffce-4884-c4ef-98932df16b39"
      },
      "source": [
        "!./max_pairwise_product < input2.txt"
      ],
      "execution_count": null,
      "outputs": [
        {
          "output_type": "stream",
          "text": [
            "1345294336\n"
          ],
          "name": "stdout"
        }
      ]
    },
    {
      "cell_type": "markdown",
      "metadata": {
        "id": "H2SC0Qt5HCzz"
      },
      "source": [
        "Changing the variables to long long"
      ]
    },
    {
      "cell_type": "code",
      "metadata": {
        "colab": {
          "base_uri": "https://localhost:8080/"
        },
        "id": "MPcmsxiQZSfE",
        "outputId": "505b15da-992f-4b30-eec7-e6ddc445c2b7"
      },
      "source": [
        "%%writefile max_pairwise_product_long.cpp\n",
        "#include <iostream>\n",
        "#include <vector>\n",
        "#include <algorithm>\n",
        "\n",
        "long long MaxPairwiseProduct(const std::vector<int>& numbers) {\n",
        "    long long max_product = 0LL;\n",
        "\t  long long aux_product = 0LL;\n",
        "    int n = numbers.size();\n",
        "\n",
        "    for (int first = 0; first < n; ++first) {\n",
        "        for (int second = first + 1; second < n; ++second) {\n",
        "\t\t\t       aux_product =  (long long) numbers[first] * numbers[second];\n",
        "            if ( max_product < aux_product)  {\n",
        "\t\t\t\t        max_product = aux_product;\n",
        "             }\n",
        "        }\n",
        "    }\n",
        "\n",
        "    return max_product;\n",
        "}\n",
        "\n",
        "int main() {\n",
        "    int n;\n",
        "    std::cin >> n;\n",
        "    std::vector<int> numbers(n);\n",
        "    for (int i = 0; i < n; ++i) {\n",
        "        std::cin >> numbers[i];\n",
        "    }\n",
        "\n",
        "    std::cout << MaxPairwiseProduct(numbers) << \"\\n\";\n",
        "    return 0;\n",
        "}\n"
      ],
      "execution_count": null,
      "outputs": [
        {
          "output_type": "stream",
          "name": "stdout",
          "text": [
            "Overwriting max_pairwise_product_long.cpp\n"
          ]
        }
      ]
    },
    {
      "cell_type": "code",
      "metadata": {
        "colab": {
          "base_uri": "https://localhost:8080/"
        },
        "id": "I5pCeOG1Zm7s",
        "outputId": "11677ff0-aef2-4d6e-e365-c6bbd22ffef8"
      },
      "source": [
        "!g++ max_pairwise_product_long.cpp -o max_pairwise_product_long\n",
        "!./max_pairwise_product_long < input1.txt\n",
        "!./max_pairwise_product_long < input2.txt"
      ],
      "execution_count": null,
      "outputs": [
        {
          "output_type": "stream",
          "name": "stdout",
          "text": [
            "90\n",
            "40000000000\n"
          ]
        }
      ]
    },
    {
      "cell_type": "markdown",
      "metadata": {
        "id": "XPVHkHxH6_7s"
      },
      "source": [
        "### Test 3  stress tests 20  times  random n in [2, 20] "
      ]
    },
    {
      "cell_type": "code",
      "metadata": {
        "id": "PwqpBmYr69fu",
        "colab": {
          "base_uri": "https://localhost:8080/"
        },
        "outputId": "af0443ff-048d-4868-954d-fa67d6560c19"
      },
      "source": [
        "%%writefile stress_test_3.cpp\n",
        "#include <iostream>\n",
        "#include <vector>\n",
        "#include <cstdlib>\n",
        "\n",
        "using std::cin;\n",
        "using std::cout;\n",
        "using std::vector;\n",
        "\n",
        "long long MaxPairwiseProduct(const std::vector<int>& numbers) {\n",
        "    long long max_product = 0LL;\n",
        "\t  long long aux_product = 0LL;\n",
        "    int n = numbers.size();\n",
        "\n",
        "    for (int first = 0; first < n; ++first) {\n",
        "        for (int second = first + 1; second < n; ++second) {\n",
        "\t\t\t       aux_product =  (long long) numbers[first] * numbers[second];\n",
        "            if ( max_product < aux_product)  {\n",
        "\t\t\t\t        max_product = aux_product;\n",
        "             }\n",
        "        }\n",
        "    }\n",
        "\n",
        "    return max_product;\n",
        "}\n",
        "\n",
        "long long MaxPairwiseProductFast(const std::vector<int>& numbers){\n",
        "\tint n = numbers.size();\n",
        "\t\n",
        "\tint max_index1 = -1;\n",
        "\tfor(int i=0; i<n; i++){\n",
        "\t\tif((max_index1 == -1) || (numbers[i] > numbers[max_index1]))\n",
        "\t\t\tmax_index1 = i;\n",
        "\t}\n",
        "\t\n",
        "\tint max_index2 = -1; \n",
        "\tfor(int j=0; j<n; j++){\n",
        "\t\tif((j != max_index1) && ((max_index2 == -1) || (numbers[j] > numbers[max_index2])))\n",
        "\t\t\tmax_index2 = j;\n",
        "\t}\n",
        "\t\n",
        "\tcout << max_index1 << \" \"<< max_index2 << \"\\n\";\n",
        "\t\n",
        "\treturn((long long)(numbers[max_index1])) * numbers[max_index2];\n",
        "}\n",
        "\n",
        "int main() {\n",
        "    \n",
        "    int j = 0;\n",
        "    while(j<20){\n",
        "      int n = rand() % 19 + 2;\n",
        "      cout << n << \"\\n\";\n",
        "      vector<int> a;\n",
        "      \n",
        "      for(int i =0; i<n; ++i){\n",
        "        a.push_back(rand() % 100000);\n",
        "      }\n",
        "      for(int i =0; i<n;++i){\n",
        "        cout << a[i] << ' ';\n",
        "      }\n",
        "      \n",
        "      std::cout << \"\\n\";\n",
        "      \n",
        "      long long res1 = MaxPairwiseProduct(a);\n",
        "      long long res2 = MaxPairwiseProductFast(a);\n",
        "      \n",
        "      if(res1 != res2){\n",
        "        cout << \"Wrong answer: \" << res1 << \" \" << res2 << \"\\n\";\n",
        "        break;\n",
        "      }else{\n",
        "        cout << \"OK\\n\"; \n",
        "      }\n",
        "      j++;\n",
        "    }\n",
        "    \n",
        "    int n; \n",
        "    cin >> n;\n",
        "    vector<int> numbers(n);\n",
        "    for (int i = 0; i < n; ++i) {\n",
        "        cin >> numbers[i];\n",
        "    }\n",
        "\n",
        "    //std::cout << MaxPairwiseProduct(numbers) << \"\\n\";\n",
        "    long long result = MaxPairwiseProductFast(numbers);\n",
        "\t  cout << result << \"\\n\";\n",
        "\treturn 0;\n",
        "}"
      ],
      "execution_count": null,
      "outputs": [
        {
          "output_type": "stream",
          "name": "stdout",
          "text": [
            "Writing stress_test_3.cpp\n"
          ]
        }
      ]
    },
    {
      "cell_type": "code",
      "metadata": {
        "id": "xivYtGAWG2TQ"
      },
      "source": [
        "!g++ stress_test_3.cpp -o stresstest3"
      ],
      "execution_count": null,
      "outputs": []
    },
    {
      "cell_type": "code",
      "metadata": {
        "colab": {
          "base_uri": "https://localhost:8080/"
        },
        "id": "mtz5dPgDowcp",
        "outputId": "636b4022-d88d-4b87-ddf7-323c8e398d1a"
      },
      "source": [
        "!./stresstest3"
      ],
      "execution_count": null,
      "outputs": [
        {
          "output_type": "stream",
          "name": "stdout",
          "text": [
            "4\n",
            "30886 92777 36915 47793 \n",
            "1 3\n",
            "OK\n",
            "10\n",
            "85386 60492 16649 41421 2362 90027 68690 20059 97763 13926 \n",
            "8 5\n",
            "OK\n",
            "9\n",
            "83426 89172 55736 5211 95368 2567 56429 65782 21530 \n",
            "4 1\n",
            "OK\n",
            "8\n",
            "65123 74067 3135 13929 79802 34022 23058 33069 \n",
            "4 1\n",
            "OK\n",
            "7\n",
            "61393 18456 75011 78042 76229 77373 84421 \n",
            "6 3\n",
            "OK\n",
            "3\n",
            "13784 98537 75198 \n",
            "1 2\n",
            "OK\n",
            "11\n",
            "98315 64370 66413 3526 76091 68980 59956 41873 6862 99170 6996 \n",
            "9 0\n",
            "OK\n",
            "18\n",
            "2305 20925 77084 36327 60336 26505 50846 21729 61313 25857 16124 53895 19582 545 98814 33367 15434 90364 \n",
            "14 17\n",
            "OK\n",
            "2\n",
            "13750 71087 \n",
            "1 0\n",
            "OK\n",
            "15\n",
            "17276 47178 95788 93584 5403 2651 92754 12399 99932 95060 49676 93368 47739 10012 36226 \n",
            "8 2\n",
            "OK\n",
            "7\n",
            "48094 97539 40795 80570 51434 60378 97467 \n",
            "1 6\n",
            "OK\n",
            "15\n",
            "10097 12902 73317 70492 26652 60756 97301 60280 24286 9441 53865 29689 28444 46619 58440 \n",
            "6 2\n",
            "OK\n",
            "13\n",
            "58031 8117 38097 5771 34481 90675 20709 98927 4567 77856 79497 72353 54586 \n",
            "7 5\n",
            "OK\n",
            "6\n",
            "55306 64683 6219 28624 51528 32871 \n",
            "1 0\n",
            "OK\n",
            "17\n",
            "48829 9503 30019 58270 63368 59708 86715 26340 18149 47796 723 42618 2245 22846 93451 92921 43555 \n",
            "14 15\n",
            "OK\n",
            "19\n",
            "97488 37764 88228 69841 92350 65193 41500 57034 87764 70124 24914 36987 75856 73743 46491 22227 48365 9859 81936 \n",
            "0 4\n",
            "OK\n",
            "11\n",
            "52551 16437 99228 53275 75407 1474 76121 68858 94395 36029 61237 \n",
            "2 8\n",
            "OK\n",
            "3\n",
            "73793 65818 94428 \n",
            "2 0\n",
            "OK\n",
            "10\n",
            "31011 35928 39529 18776 22404 64443 55763 14613 54538 18606 \n",
            "5 6\n",
            "OK\n",
            "7\n",
            "2904 44818 35128 70688 97369 67917 69917 \n",
            "4 3\n",
            "OK\n",
            "^C\n"
          ]
        }
      ]
    },
    {
      "cell_type": "markdown",
      "metadata": {
        "id": "9z9yr5QkeyJF"
      },
      "source": [
        "### Test 4  time test  measure the execution time running with the the largest worst case file (200000 increasing numbers, 200000 and 200000 the end) "
      ]
    },
    {
      "cell_type": "code",
      "metadata": {
        "id": "oLiMjbAIfPlX",
        "colab": {
          "base_uri": "https://localhost:8080/"
        },
        "outputId": "1972e7ef-5956-4517-f516-9de0e88916a2"
      },
      "source": [
        "%%writefile Test2Write.cpp\n",
        "\n",
        "#include <iostream>\n",
        "#include <fstream>\n",
        "#include <cstdlib>\n",
        "\n",
        "using namespace std;\n",
        "\n",
        "int main() {\n",
        "  // Create and open a text file\n",
        "  ofstream MyFile(\"input3.txt\");\n",
        "\n",
        " MyFile << 200000 <<\"\\n\";  // n \n",
        " for (int i=1; i < 200001; i++){\n",
        "     MyFile << i <<\" \";\n",
        " }\n",
        "  \n",
        "  // Close the file\n",
        "  MyFile.close();\n",
        "}"
      ],
      "execution_count": null,
      "outputs": [
        {
          "output_type": "stream",
          "name": "stdout",
          "text": [
            "Overwriting Test2Write.cpp\n"
          ]
        }
      ]
    },
    {
      "cell_type": "code",
      "metadata": {
        "id": "EH25TkOkZfD9"
      },
      "source": [
        "!g++ Test2Write.cpp -o Test2Write\n",
        "!./Test2Write"
      ],
      "execution_count": null,
      "outputs": []
    },
    {
      "cell_type": "markdown",
      "metadata": {
        "id": "JB6f03qO-lj9"
      },
      "source": [
        "Measure time\n",
        "\n",
        "https://askubuntu.com/questions/53444/how-can-i-measure-the-execution-time-of-a-terminal-process"
      ]
    },
    {
      "cell_type": "code",
      "metadata": {
        "colab": {
          "base_uri": "https://localhost:8080/"
        },
        "id": "6p2QLEr576zk",
        "outputId": "6acdbcce-c568-40c5-83f0-7a613893e583"
      },
      "source": [
        "!g++ max_pairwise_product_long.cpp -o max_pairwise_product_long\n",
        "!time ./max_pairwise_product_long < input3.txt"
      ],
      "execution_count": null,
      "outputs": [
        {
          "output_type": "stream",
          "name": "stdout",
          "text": [
            "39999800000\n",
            "\n",
            "real\t1m57.837s\n",
            "user\t1m57.568s\n",
            "sys\t0m0.039s\n"
          ]
        }
      ]
    },
    {
      "cell_type": "markdown",
      "metadata": {
        "id": "AmZeB2wYjxy5"
      },
      "source": [
        "##### Calculate  the number of instructions executed by the algorithm as a function of n, add in each line a comment with the number of instructions that are executed in that line \n",
        "\n",
        "```cpp\n",
        " int main() {                         //N inst exec by line executed  \n",
        "   \n",
        "    int n;                            //1                      \n",
        "    std::cin >> n;                    //1\n",
        "                                              \n",
        "    std::vector<int> numbers(n);      //n    init vector\n",
        "    .\n",
        "    .\n",
        " }\n",
        "\n",
        "```"
      ]
    },
    {
      "cell_type": "code",
      "metadata": {
        "colab": {
          "base_uri": "https://localhost:8080/"
        },
        "id": "djGX3FL13g9b",
        "outputId": "270176eb-1660-419e-de67-2c8f8c3c7f74"
      },
      "source": [
        "%%writefile test_init_vectors.cpp\n",
        "#include <iostream>\n",
        "#include <vector>\n",
        "#include <algorithm>\n",
        "int main() {                                                               \n",
        "    int n = 10;                                                                                                                            //1\n",
        "    std::vector<int> numbers(n);                                            \n",
        "    for (int i = 0; i < n; ++i) {                                           \n",
        "        std::cout << numbers[i];                                             \n",
        "    }\n",
        "\n",
        "    std::cout << \"\\n\";                       \n",
        "    return 0;                                                              \n",
        "}  "
      ],
      "execution_count": null,
      "outputs": [
        {
          "output_type": "stream",
          "text": [
            "Overwriting test_init_vectors.cpp\n"
          ],
          "name": "stdout"
        }
      ]
    },
    {
      "cell_type": "code",
      "metadata": {
        "colab": {
          "base_uri": "https://localhost:8080/"
        },
        "id": "44gZcuE237-1",
        "outputId": "7f5f9c2a-bed0-4223-ee39-3290f70db610"
      },
      "source": [
        "!g++ test_init_vectors.cpp -o test_init_vectors\n",
        "!./test_init_vectors"
      ],
      "execution_count": null,
      "outputs": [
        {
          "output_type": "stream",
          "text": [
            "0000000000\n"
          ],
          "name": "stdout"
        }
      ]
    },
    {
      "cell_type": "code",
      "metadata": {
        "colab": {
          "base_uri": "https://localhost:8080/"
        },
        "id": "uG6Mv-Pwlkii",
        "outputId": "8b4b2a48-2fc3-4feb-81ab-088e183a49f5"
      },
      "source": [
        "%%writefile max_pairwise_product_long.cpp\n",
        "#include <iostream>\n",
        "#include <vector>\n",
        "#include <algorithm>\n",
        "\n",
        "long long MaxPairwiseProduct(const std::vector<int>& numbers) {              //N inst exec by line executed \n",
        "    long long max_product = 0LL;                                             //1                                          \n",
        "\t  long long aux_product = 0LL;                                             //1 \n",
        "    int n = numbers.size();                                                  //1 \n",
        "                                                                             \n",
        "    for (int first = 0; first < n; ++first) {                                //1+2n  \n",
        "        for (int second = first + 1; second < n; ++second) {                 //n + (n-1)n \n",
        "\t\t\t       aux_product =  (long long) numbers[first] * numbers[second];    //(n-1)n/2 \n",
        "            if (max_product < aux_product)  {                                //(n-1)n/2 \n",
        "\t\t\t\t        max_product = aux_product;                                   //[0, (n-1)n/2] \n",
        "             }\n",
        "        }\n",
        "    }\n",
        "                                                                             // -------------- \n",
        "    return max_product;                                                      // 4 + 3n + [2(n-1)n, 2.5 (n-1)n] \n",
        "}\n",
        "\n",
        "int main() {                                              //N inst exec by line executed \n",
        "    int n;                                                //1  \n",
        "    std::cin >> n;                                        //1\n",
        "    std::vector<int> numbers(n);                          //n\n",
        "    for (int i = 0; i < n; ++i) {                         //1 + 2n\n",
        "        std::cin >> numbers[i];                           //n\n",
        "    }\n",
        "\n",
        "    std::cout << MaxPairwiseProduct(numbers) << \"\\n\";     //1 + 1  + 4 + 3n + [2(n-1)n, 2.5 (n-1)n]\n",
        "    return 0;                                             // -------------- \n",
        "}                                                         // 9 + 7n + [2(n-1)n, 2.5 (n-1)n]\n"
      ],
      "execution_count": null,
      "outputs": [
        {
          "output_type": "stream",
          "text": [
            "Overwriting max_pairwise_product_long.cpp\n"
          ],
          "name": "stdout"
        }
      ]
    },
    {
      "cell_type": "markdown",
      "metadata": {
        "id": "0vTsUg8OwcHs"
      },
      "source": [
        "Count executed intructions in code and verify with inputs 1, 2 and 3"
      ]
    },
    {
      "cell_type": "code",
      "metadata": {
        "colab": {
          "base_uri": "https://localhost:8080/"
        },
        "id": "CuRKkqQc137V",
        "outputId": "58b72004-01f8-4734-96f8-5ff1a32cdd31"
      },
      "source": [
        "%%writefile max_pairwise_product_long_execints.cpp\n",
        "#include <iostream>\n",
        "#include <vector>\n",
        "#include <algorithm>\n",
        "\n",
        "long long MaxPairwiseProduct(const std::vector<int>& numbers, long long &execints) {              //N inst exec by line executed \n",
        "    \n",
        "    long long m = 0LL;                                                       //1\n",
        "    \n",
        "    long long max_product = 0LL;                                             //1\n",
        "    execints++;\n",
        "\n",
        "\t  long long aux_product = 0LL;                                             //1\n",
        "    execints++;\n",
        "\n",
        "    int n = numbers.size();                                                  //1 \n",
        "    execints++;\n",
        "\n",
        "    execints++;                                                                         \n",
        "    for (int first = 0; first < n; ++first) {                                //1+2n  \n",
        "        execints += 2;\n",
        "\n",
        "        long long m = 0LL;\n",
        "\n",
        "        execints++;                                    \n",
        "        for (int second = first + 1; second < n; ++second) {                 //n+ (n-1)n \n",
        "            execints += 2;                                                \n",
        "\n",
        "\t\t\t      aux_product =  (long long) numbers[first] * numbers[second];    //(n-1)n/2 \n",
        "            execints++; \n",
        "\n",
        "            execints++; \n",
        "            if ( max_product < aux_product)  {                               //(n-1)n/2 \n",
        "                       \n",
        "\t\t\t\t        max_product = aux_product;                                   //[0, (n-1)n/2] \n",
        "                execints++; \n",
        "                m++;\n",
        "             }\n",
        "        }\n",
        "        if ( (first <= 10) || (n- first <= 10)) std::cout << m << \"\\n\";\n",
        "    }\n",
        "                                                                            // -------------- \n",
        "    return max_product;                                                     // 4 + 3n + [2(n-1)n, 2.5 (n-1)n] \n",
        "}\n",
        "\n",
        "int main() {                                                 //N inst exec by line executed \n",
        "    long long execints =0LL;\n",
        "\n",
        "    int n;                                                   //1\n",
        "    execints++;                                                              \n",
        "    \n",
        "    std::cin >> n;                                           //1\n",
        "    execints++;\n",
        "\n",
        "    std::vector<int> numbers(n);                             //n\n",
        "    execints += n;\n",
        "    \n",
        "    execints++;\n",
        "    for (int i = 0; i < n; ++i) {                            //1 + 2n\n",
        "        execints += 2;\n",
        "\n",
        "        std::cin >> numbers[i];\n",
        "        execints++;                                          //n\n",
        "    }\n",
        "    \n",
        "    //std::cout << MaxPairwiseProduct(numbers) << \"\\n\";      //1 + 1  + 4 + 3n + [2(n-1)n, 2.5 (n-1)n]\n",
        "\n",
        "    execints++;\n",
        "    int M = MaxPairwiseProduct(numbers,execints);\n",
        "\n",
        "    execints++;\n",
        "    std::cout <<  execints << \"\\n\";                       \n",
        "    return 0;                                                // -------------- \n",
        "}                                                            // 9 + 7n + [2(n-1)n, 2.5 (n-1)n]"
      ],
      "execution_count": null,
      "outputs": [
        {
          "output_type": "stream",
          "text": [
            "Overwriting max_pairwise_product_long_execints.cpp\n"
          ],
          "name": "stdout"
        }
      ]
    },
    {
      "cell_type": "code",
      "metadata": {
        "colab": {
          "base_uri": "https://localhost:8080/"
        },
        "id": "Kuvm1C05ly2a",
        "outputId": "f8e2f872-e7d9-4732-acb4-5ffe2e6568d1"
      },
      "source": [
        "!g++ max_pairwise_product_long_execints.cpp -o max_pairwise_product_long_execints\n",
        "!./max_pairwise_product_long_execints < input1.txt\n",
        "!./max_pairwise_product_long_execints < input2.txt\n",
        "!./max_pairwise_product_long_execints < input3.txt"
      ],
      "execution_count": null,
      "outputs": [
        {
          "output_type": "stream",
          "text": [
            "9\n",
            "5\n",
            "4\n",
            "3\n",
            "2\n",
            "2\n",
            "2\n",
            "2\n",
            "1\n",
            "0\n",
            "289\n",
            "2\n",
            "1\n",
            "2\n",
            "0\n",
            "0\n",
            "0\n",
            "116\n",
            "199999\n",
            "100000\n",
            "66667\n",
            "50000\n",
            "40000\n",
            "33334\n",
            "28572\n",
            "25000\n",
            "22223\n",
            "20000\n",
            "18182\n",
            "2\n",
            "2\n",
            "2\n",
            "2\n",
            "2\n",
            "2\n",
            "2\n",
            "2\n",
            "1\n",
            "0\n",
            "80003672077\n"
          ],
          "name": "stdout"
        }
      ]
    },
    {
      "cell_type": "markdown",
      "metadata": {
        "id": "L_uaamxeAHK7"
      },
      "source": [
        "The number of instructions executed by the algooirithm with a list of size $n$ is  \n",
        "\n",
        "$$T = 9 + 7n + [2(n-1)n, 2.5 (n-1)n]$$\n",
        "\n",
        "It depends on the size of the lists and  the order of the list.\n",
        "\n",
        "For the input1.txt \n",
        "```\n",
        "10\n",
        "1 2 3 4 5 6 7 8 9 10\n",
        "```\n",
        "$$T = 9 + 7(10) + 2(9)(10) +  9 + 5 + 4 + 3 + 2 + 2 + 2 + 2 + 1 + 0  = 289 $$\n",
        "\n",
        "For the input2.txt \n",
        "```\n",
        "6\n",
        "1 3 200000 9 200000 23\n",
        "```\n",
        "$$T = 9 + 7(6) + 2(5)(6)  +  2 + 1 + 2 + 0 + 0 + 0 = 116 $$\n",
        "\n",
        "\n",
        "For the input3.txt that is the worst case (n=200000 and list in incresing order)\n",
        "\n",
        "```\n",
        "200000\n",
        "1 2 3 4 5 6 7 8 9 10 ... 199998 199999 200000\n",
        "```\n",
        "\n",
        "$$\n",
        "\\begin{array}{ll}\n",
        "T &= 9 + 7(200000) + (2)(199999)(200000)  + (199999 +\n",
        "100000 + 66667 +50000 \\cdots 2 + 2 + 1)\\\\\n",
        "&= 80003672077  \\\\\n",
        "  &< 9 + 7(200000) + (2.5)(199999)(200000) \\\\\n",
        "  & = 100000900009\n",
        "\\end{array}\n",
        "  $$"
      ]
    },
    {
      "cell_type": "markdown",
      "metadata": {
        "id": "NXW7QkoBL6xH"
      },
      "source": [
        "Calculate estimated time by instruction and number of instructions by second"
      ]
    },
    {
      "cell_type": "code",
      "metadata": {
        "colab": {
          "base_uri": "https://localhost:8080/"
        },
        "id": "pKqB3i7dIxnc",
        "outputId": "cec850f5-16e3-4cd6-bf9b-6f5f2fd7b076"
      },
      "source": [
        "# Estimated time by instruction\n",
        "\n",
        "128/80003672077 \n"
      ],
      "execution_count": null,
      "outputs": [
        {
          "output_type": "execute_result",
          "data": {
            "text/plain": [
              "1.5999265618308827e-09"
            ]
          },
          "metadata": {
            "tags": []
          },
          "execution_count": 34
        }
      ]
    },
    {
      "cell_type": "code",
      "metadata": {
        "colab": {
          "base_uri": "https://localhost:8080/"
        },
        "id": "18N1ouqeMhE1",
        "outputId": "d7d4d1bf-b899-4c01-8ecb-e30da3ae6468"
      },
      "source": [
        "# Estimated number of instructions by second\n",
        "\n",
        "1/(128/80003672077) "
      ],
      "execution_count": null,
      "outputs": [
        {
          "output_type": "execute_result",
          "data": {
            "text/plain": [
              "625028688.1015625"
            ]
          },
          "metadata": {
            "tags": []
          },
          "execution_count": 35
        }
      ]
    },
    {
      "cell_type": "markdown",
      "metadata": {
        "id": "CQufozXLNJwO"
      },
      "source": [
        "### Efficient solution"
      ]
    },
    {
      "cell_type": "markdown",
      "metadata": {
        "id": "nLcKBwbU0QsE"
      },
      "source": [
        "Add in each line a coment with the number of intstrcution that are executed in that line"
      ]
    },
    {
      "cell_type": "code",
      "metadata": {
        "id": "knls5Fh3NSt_",
        "colab": {
          "base_uri": "https://localhost:8080/"
        },
        "outputId": "fb0d2f22-0376-40ae-ed15-a96cd356ebd7"
      },
      "source": [
        "%%writefile effsol_maxpairwise.cpp\n",
        "#include <iostream>\n",
        "#include <vector>\n",
        "#include <cstdlib>\n",
        "\n",
        "using std::cin;\n",
        "using std::cout;\n",
        "using std::vector;\n",
        "\n",
        "\n",
        "long long MaxPairwiseProductFast(const std::vector<int>& numbers){\n",
        "\tint n = numbers.size();                                                                           //1\n",
        "\t\n",
        "\tint max_index1 = -1;                                                                              //1\n",
        "\tfor(int i=0; i<n; i++){                                                                           //1+2n\n",
        "      if((max_index1 == -1) || (numbers[i] > numbers[max_index1]))                                  //n\n",
        "          max_index1 = i;\n",
        "\t}\n",
        "\t\n",
        "\tint max_index2 = -1;                                                                              //1\n",
        "\tfor(int j=0; j<n; j++){                                                                           //1+2n\n",
        "      if((j != max_index1) && ((max_index2 == -1) || (numbers[j] > numbers[max_index2])))           //n\n",
        "          max_index2 = j;\n",
        "\t}\n",
        "\t\n",
        "\treturn((long long)(numbers[max_index1])) * numbers[max_index2];                                   //6+4n[n,2n]\n",
        "}\n",
        "\n",
        "int main() {\n",
        "    \n",
        "    int n;                                                             //1\n",
        "    cin >> n;                                                          //1\n",
        "    vector<int> numbers(n);                                            //n\n",
        "    for (int i = 0; i < n; ++i) {                                      //1+2n\n",
        "        cin >> numbers[i];                                             //n\n",
        "    }\n",
        "    long long result = MaxPairwiseProductFast(numbers);                //1+6+4n[n,2n]\n",
        "\t  cout << result << \"\\n\";                                            //1\n",
        "\treturn 0;\n",
        "}"
      ],
      "execution_count": null,
      "outputs": [
        {
          "output_type": "stream",
          "name": "stdout",
          "text": [
            "Writing effsol_maxpairwise.cpp\n"
          ]
        }
      ]
    },
    {
      "cell_type": "code",
      "metadata": {
        "id": "P_reKjem6seZ"
      },
      "source": [
        "!g++ effsol_maxpairwise.cpp -o effsol_maxpairwise"
      ],
      "execution_count": null,
      "outputs": []
    },
    {
      "cell_type": "markdown",
      "metadata": {
        "id": "-JCijbWxNSii"
      },
      "source": [
        "Test with inputs 1 and 2\n",
        "\n"
      ]
    },
    {
      "cell_type": "code",
      "metadata": {
        "id": "TrTGAfqlNVXT",
        "colab": {
          "base_uri": "https://localhost:8080/"
        },
        "outputId": "d786ebf9-a821-42cb-ae40-b890f1b2cc90"
      },
      "source": [
        "!./effsol_maxpairwise < input1.txt\n",
        "!./effsol_maxpairwise < input2.txt"
      ],
      "execution_count": null,
      "outputs": [
        {
          "output_type": "stream",
          "name": "stdout",
          "text": [
            "9 8\n",
            "90\n",
            "2 4\n",
            "40000000000\n"
          ]
        }
      ]
    },
    {
      "cell_type": "markdown",
      "metadata": {
        "id": "PRX51wADNR8b"
      },
      "source": [
        "Test and time it with input 3"
      ]
    },
    {
      "cell_type": "code",
      "metadata": {
        "id": "v4z7-Is_NRt7",
        "colab": {
          "base_uri": "https://localhost:8080/"
        },
        "outputId": "e4491fea-9a71-445b-88ca-f60b79e54365"
      },
      "source": [
        "!time ./effsol_maxpairwise < input3.txt"
      ],
      "execution_count": null,
      "outputs": [
        {
          "output_type": "stream",
          "name": "stdout",
          "text": [
            "199999 199998\n",
            "39999800000\n",
            "\n",
            "real\t0m0.054s\n",
            "user\t0m0.052s\n",
            "sys\t0m0.002s\n"
          ]
        }
      ]
    },
    {
      "cell_type": "markdown",
      "metadata": {
        "id": "rpdfs0_TNZJf"
      },
      "source": [
        "20 stress tests"
      ]
    },
    {
      "cell_type": "code",
      "metadata": {
        "id": "Lu4tYcKzNcTT",
        "colab": {
          "base_uri": "https://localhost:8080/"
        },
        "outputId": "41918d8b-e41c-4e4e-bbc8-dbfeff73bad2"
      },
      "source": [
        "%%writefile effsol_maxpairwise.cpp\n",
        "#include <iostream>\n",
        "#include <vector>\n",
        "#include <cstdlib>\n",
        "\n",
        "using std::cin;\n",
        "using std::cout;\n",
        "using std::vector;\n",
        "\n",
        "\n",
        "long long MaxPairwiseProductFast(const std::vector<int>& numbers){\n",
        "\tint n = numbers.size();                                                                           //1\n",
        "\t\n",
        "\tint max_index1 = -1;                                                                              //1\n",
        "\tfor(int i=0; i<n; i++){                                                                           //1+2n\n",
        "      if((max_index1 == -1) || (numbers[i] > numbers[max_index1]))                                  //n\n",
        "          max_index1 = i;\n",
        "\t}\n",
        "\t\n",
        "\tint max_index2 = -1;                                                                              //1\n",
        "\tfor(int j=0; j<n; j++){                                                                           //1+2n\n",
        "      if((j != max_index1) && ((max_index2 == -1) || (numbers[j] > numbers[max_index2])))           //n\n",
        "          max_index2 = j;\n",
        "\t}\n",
        "\t\n",
        "\treturn((long long)(numbers[max_index1])) * numbers[max_index2];                                   //6+4n[n,2n]\n",
        "}\n",
        "\n",
        "int main() {\n",
        "    /*\n",
        "    int j = 0;\n",
        "    while(j<20){\n",
        "      int n = rand() % 19 + 2;\n",
        "      cout << n << \"\\n\";\n",
        "      vector<int> a;\n",
        "      \n",
        "      for(int i =0; i<n; ++i){\n",
        "        a.push_back(rand() % 100000);\n",
        "      }\n",
        "      for(int i =0; i<n;++i){\n",
        "        cout << a[i] << ' ';\n",
        "      }\n",
        "      \n",
        "      std::cout << \"\\n\";\n",
        "      \n",
        "      long long res2 = MaxPairwiseProductFast(a);\n",
        "      \n",
        "      cout << res2 << \"\\n\";\n",
        "      j++;\n",
        "    }*/\n",
        "    \n",
        "    int n;                                                             //1\n",
        "    cin >> n;                                                          //1\n",
        "    vector<int> numbers(n);                                            //n\n",
        "    for (int i = 0; i < n; ++i) {                                      //1+2n\n",
        "        cin >> numbers[i];                                             //n\n",
        "    }\n",
        "    long long result = MaxPairwiseProductFast(numbers);                //1+6+4n[n,2n]\n",
        "\t  cout << result << \"\\n\";                                            //1\n",
        "\treturn 0;\n",
        "}"
      ],
      "execution_count": null,
      "outputs": [
        {
          "output_type": "stream",
          "name": "stdout",
          "text": [
            "Overwriting effsol_maxpairwise.cpp\n"
          ]
        }
      ]
    },
    {
      "cell_type": "code",
      "metadata": {
        "id": "Vc7NgFfOUlwR"
      },
      "source": [
        "!g++ effsol_maxpairwise.cpp -o effsol_maxpairwise"
      ],
      "execution_count": null,
      "outputs": []
    },
    {
      "cell_type": "code",
      "metadata": {
        "colab": {
          "base_uri": "https://localhost:8080/"
        },
        "id": "SJtFNq5jUq2g",
        "outputId": "938dc4f4-830d-4da9-9f4a-92d5cae4ad15"
      },
      "source": [
        "!./effsol_maxpairwise"
      ],
      "execution_count": null,
      "outputs": [
        {
          "output_type": "stream",
          "name": "stdout",
          "text": [
            "4\n",
            "30886 92777 36915 47793 \n",
            "4434091161\n",
            "10\n",
            "85386 60492 16649 41421 2362 90027 68690 20059 97763 13926 \n",
            "8801309601\n",
            "9\n",
            "83426 89172 55736 5211 95368 2567 56429 65782 21530 \n",
            "8504155296\n",
            "8\n",
            "65123 74067 3135 13929 79802 34022 23058 33069 \n",
            "5910694734\n",
            "7\n",
            "61393 18456 75011 78042 76229 77373 84421 \n",
            "6588383682\n",
            "3\n",
            "13784 98537 75198 \n",
            "7409785326\n",
            "11\n",
            "98315 64370 66413 3526 76091 68980 59956 41873 6862 99170 6996 \n",
            "9749898550\n",
            "18\n",
            "2305 20925 77084 36327 60336 26505 50846 21729 61313 25857 16124 53895 19582 545 98814 33367 15434 90364 \n",
            "8929228296\n",
            "2\n",
            "13750 71087 \n",
            "977446250\n",
            "15\n",
            "17276 47178 95788 93584 5403 2651 92754 12399 99932 95060 49676 93368 47739 10012 36226 \n",
            "9572286416\n",
            "7\n",
            "48094 97539 40795 80570 51434 60378 97467 \n",
            "9506833713\n",
            "15\n",
            "10097 12902 73317 70492 26652 60756 97301 60280 24286 9441 53865 29689 28444 46619 58440 \n",
            "7133817417\n",
            "13\n",
            "58031 8117 38097 5771 34481 90675 20709 98927 4567 77856 79497 72353 54586 \n",
            "8970205725\n",
            "6\n",
            "55306 64683 6219 28624 51528 32871 \n",
            "3577357998\n",
            "17\n",
            "48829 9503 30019 58270 63368 59708 86715 26340 18149 47796 723 42618 2245 22846 93451 92921 43555 \n",
            "8683560371\n",
            "19\n",
            "97488 37764 88228 69841 92350 65193 41500 57034 87764 70124 24914 36987 75856 73743 46491 22227 48365 9859 81936 \n",
            "9003016800\n",
            "11\n",
            "52551 16437 99228 53275 75407 1474 76121 68858 94395 36029 61237 \n",
            "9366627060\n",
            "3\n",
            "73793 65818 94428 \n",
            "6968125404\n",
            "10\n",
            "31011 35928 39529 18776 22404 64443 55763 14613 54538 18606 \n",
            "3593535009\n",
            "7\n",
            "2904 44818 35128 70688 97369 67917 69917 \n",
            "6882819872\n",
            "^C\n"
          ]
        }
      ]
    },
    {
      "cell_type": "markdown",
      "metadata": {
        "id": "L8U4151JNbxk"
      },
      "source": [
        "Count executed instructions in code and verify with inputs 1,2 and 3\n"
      ]
    },
    {
      "cell_type": "code",
      "metadata": {
        "id": "dh85RM8vNhFz",
        "colab": {
          "base_uri": "https://localhost:8080/"
        },
        "outputId": "90387dfb-b630-41ca-fc50-1a677d90e265"
      },
      "source": [
        "!g++ effsol_maxpairwise.cpp -o effsol_maxpairwise\n",
        "!./effsol_maxpairwise < input1.txt\n",
        "!./effsol_maxpairwise < input2.txt\n",
        "!./effsol_maxpairwise < input3.txt"
      ],
      "execution_count": null,
      "outputs": [
        {
          "output_type": "stream",
          "name": "stdout",
          "text": [
            "90\n",
            "40000000000\n",
            "39999800000\n"
          ]
        }
      ]
    },
    {
      "cell_type": "markdown",
      "metadata": {
        "id": "K6ybgCmpNygr"
      },
      "source": [
        "Calculate estimated time by instruction and number of instructions by second"
      ]
    },
    {
      "cell_type": "code",
      "metadata": {
        "id": "kwe3G1O3Nz1w"
      },
      "source": [
        ""
      ],
      "execution_count": null,
      "outputs": []
    },
    {
      "cell_type": "markdown",
      "metadata": {
        "id": "sc9nOLQrfTm0"
      },
      "source": [
        "### Super efficient solution\n",
        "\n",
        "Whitout storing the list in memory and whitout calling a function, add in each line a coment with the number of intstrcution that are executed in that line "
      ]
    },
    {
      "cell_type": "code",
      "metadata": {
        "id": "hBLt_xBQLy8E",
        "colab": {
          "base_uri": "https://localhost:8080/"
        },
        "outputId": "668eece7-444e-48e7-b870-308b70989d54"
      },
      "source": [
        "%%writefile supereffsol.cpp\n",
        "#include <iostream>\n",
        "\n",
        "using namespace std;\n",
        "\n",
        "int main() {\n",
        "    long long n; \n",
        "    long long auxmax;\n",
        "    long long max1 = 0; \n",
        "    long long max2 = 0;\n",
        "\n",
        "    cin >> n;\n",
        "    \n",
        "    for (int i=0; i < n; i++){                                       \n",
        "        cin >> auxmax;\n",
        "        \n",
        "        if (auxmax >= max1){                                        \n",
        "            max2 = max1;                                     \n",
        "            max1 = auxmax;\n",
        "        }else if(max2 == 0 || auxmax >= max2){                  \n",
        "            max2 = auxmax;                                  \n",
        "        }\n",
        "    }\n",
        "    cout << max1 * max2<<\"\\n\";\n",
        "    \n",
        "    return 0;\n",
        "}"
      ],
      "execution_count": null,
      "outputs": [
        {
          "output_type": "stream",
          "name": "stdout",
          "text": [
            "Overwriting supereffsol.cpp\n"
          ]
        }
      ]
    },
    {
      "cell_type": "code",
      "metadata": {
        "colab": {
          "base_uri": "https://localhost:8080/"
        },
        "id": "nQfvBmo4W6xr",
        "outputId": "68841620-017e-40fb-b403-9f0e86739f2a"
      },
      "source": [
        "!g++ supereffsol.cpp -o supereffsol\n",
        "!./supereffsol"
      ],
      "execution_count": null,
      "outputs": [
        {
          "output_type": "stream",
          "name": "stdout",
          "text": [
            "5 \n",
            "1 2 3 4 5 \n",
            "20\n"
          ]
        }
      ]
    },
    {
      "cell_type": "markdown",
      "metadata": {
        "id": "683gc3roHqzb"
      },
      "source": [
        "Test with inputs 1 and 2\n",
        "\n",
        "\n",
        " "
      ]
    },
    {
      "cell_type": "code",
      "metadata": {
        "id": "b7d4LA8OIc2_",
        "colab": {
          "base_uri": "https://localhost:8080/"
        },
        "outputId": "cb195ba6-38df-451a-ec09-3a8fb003863e"
      },
      "source": [
        "!g++ supereffsol.cpp -o supereffsol\n",
        "!./supereffsol < input1.txt\n",
        "!./supereffsol < input2.txt"
      ],
      "execution_count": null,
      "outputs": [
        {
          "output_type": "stream",
          "name": "stdout",
          "text": [
            "90\n",
            "40000000000\n"
          ]
        }
      ]
    },
    {
      "cell_type": "markdown",
      "metadata": {
        "id": "36Ugn1odIeJz"
      },
      "source": [
        "Test and time it with input 3"
      ]
    },
    {
      "cell_type": "code",
      "metadata": {
        "id": "jDyMbCnxHqSN",
        "colab": {
          "base_uri": "https://localhost:8080/"
        },
        "outputId": "bf4f0c4a-ff00-44f7-e20f-82ee697b66ce"
      },
      "source": [
        "!time ./supereffsol < input3.txt"
      ],
      "execution_count": null,
      "outputs": [
        {
          "output_type": "stream",
          "name": "stdout",
          "text": [
            "39999800000\n",
            "\n",
            "real\t0m0.055s\n",
            "user\t0m0.052s\n",
            "sys\t0m0.001s\n"
          ]
        }
      ]
    },
    {
      "cell_type": "markdown",
      "metadata": {
        "id": "bhqiKQG6fjKM"
      },
      "source": [
        "20 stress tests "
      ]
    },
    {
      "cell_type": "code",
      "metadata": {
        "id": "2KsiXKhALzwm",
        "colab": {
          "base_uri": "https://localhost:8080/"
        },
        "outputId": "db945e08-2af0-4cfe-acf2-252ebf7279f0"
      },
      "source": [
        "%%writefile supereffsol_stress.cpp\n",
        "#include <iostream>\n",
        "\n",
        "using namespace std;\n",
        "\n",
        "int main() {\n",
        "    long long n; \n",
        "    long long auxmax;\n",
        "    long long max1 = 0; \n",
        "    long long max2 = 0;\n",
        "\n",
        "    int j = 0;\n",
        "    while(j<20){\n",
        "        int n = rand() % 19 + 2;  \n",
        "        cout << n << \"\\n\";   \n",
        "        \n",
        "        for (int i=0; i < n; i++){                              \n",
        "          auxmax = (rand() % 100000);\n",
        "          cout << auxmax << \" \";\n",
        "          \n",
        "          if (auxmax >= max1){                                        \n",
        "              max2 = max1;                                     \n",
        "              max1 = auxmax;\n",
        "          }else if(max2 == 0 || auxmax >= max2){                  \n",
        "              max2 = auxmax;                                  \n",
        "          }\n",
        "      }\n",
        "      j++;\n",
        "      cout << \"\\n\"<< max1 * max2<<\"\\n\";\n",
        "    } \n",
        "    return 0;\n",
        "}"
      ],
      "execution_count": null,
      "outputs": [
        {
          "output_type": "stream",
          "name": "stdout",
          "text": [
            "Writing supereffsol_stress.cpp\n"
          ]
        }
      ]
    },
    {
      "cell_type": "code",
      "metadata": {
        "colab": {
          "base_uri": "https://localhost:8080/"
        },
        "id": "LbO3xpNXY_Du",
        "outputId": "07f347dd-fed9-4622-9809-10f7de9ff1df"
      },
      "source": [
        "!g++ supereffsol_stress.cpp -o supereffsol_stress\n",
        "!./supereffsol_stress"
      ],
      "execution_count": null,
      "outputs": [
        {
          "output_type": "stream",
          "name": "stdout",
          "text": [
            "4\n",
            "30886 92777 36915 47793 \n",
            "4434091161\n",
            "10\n",
            "85386 60492 16649 41421 2362 90027 68690 20059 97763 13926 \n",
            "9070157851\n",
            "9\n",
            "83426 89172 55736 5211 95368 2567 56429 65782 21530 \n",
            "9323461784\n",
            "8\n",
            "65123 74067 3135 13929 79802 34022 23058 33069 \n",
            "9323461784\n",
            "7\n",
            "61393 18456 75011 78042 76229 77373 84421 \n",
            "9323461784\n",
            "3\n",
            "13784 98537 75198 \n",
            "9633272731\n",
            "11\n",
            "98315 64370 66413 3526 76091 68980 59956 41873 6862 99170 6996 \n",
            "9771914290\n",
            "18\n",
            "2305 20925 77084 36327 60336 26505 50846 21729 61313 25857 16124 53895 19582 545 98814 33367 15434 90364 \n",
            "9799384380\n",
            "2\n",
            "13750 71087 \n",
            "9799384380\n",
            "15\n",
            "17276 47178 95788 93584 5403 2651 92754 12399 99932 95060 49676 93368 47739 10012 36226 \n",
            "9910256440\n",
            "7\n",
            "48094 97539 40795 80570 51434 60378 97467 \n",
            "9910256440\n",
            "15\n",
            "10097 12902 73317 70492 26652 60756 97301 60280 24286 9441 53865 29689 28444 46619 58440 \n",
            "9910256440\n",
            "13\n",
            "58031 8117 38097 5771 34481 90675 20709 98927 4567 77856 79497 72353 54586 \n",
            "9910256440\n",
            "6\n",
            "55306 64683 6219 28624 51528 32871 \n",
            "9910256440\n",
            "17\n",
            "48829 9503 30019 58270 63368 59708 86715 26340 18149 47796 723 42618 2245 22846 93451 92921 43555 \n",
            "9910256440\n",
            "19\n",
            "97488 37764 88228 69841 92350 65193 41500 57034 87764 70124 24914 36987 75856 73743 46491 22227 48365 9859 81936 \n",
            "9910256440\n",
            "11\n",
            "52551 16437 99228 53275 75407 1474 76121 68858 94395 36029 61237 \n",
            "9916052496\n",
            "3\n",
            "73793 65818 94428 \n",
            "9916052496\n",
            "10\n",
            "31011 35928 39529 18776 22404 64443 55763 14613 54538 18606 \n",
            "9916052496\n",
            "7\n",
            "2904 44818 35128 70688 97369 67917 69917 \n",
            "9916052496\n"
          ]
        }
      ]
    },
    {
      "cell_type": "markdown",
      "metadata": {
        "id": "fEXj8GHJH5p1"
      },
      "source": [
        "Count executed instructions in code and verify with inputs 1,2 and 3"
      ]
    },
    {
      "cell_type": "code",
      "metadata": {
        "id": "LF1DHjKXIAsF",
        "colab": {
          "base_uri": "https://localhost:8080/"
        },
        "outputId": "8e17f26e-4a6f-4ad8-d300-406910a82d59"
      },
      "source": [
        "%%writefile supereffsol_execints.cpp\n",
        "#include <iostream>\n",
        "\n",
        "using namespace std;\n",
        "\n",
        "int main() {\n",
        "    long long execints = 0LL;\n",
        "\n",
        "    long long n; \n",
        "    execints++;\n",
        "    long long auxmax;\n",
        "    execints++;\n",
        "    long long max1 = 0; \n",
        "    execints++;\n",
        "    long long max2 = 0;\n",
        "    execints++;\n",
        "\n",
        "    cin >> n;\n",
        "    execints++;\n",
        "    \n",
        "    for (int i=0; i < n; i++){  \n",
        "        execints += 2;                                     \n",
        "        cin >> auxmax;\n",
        "        execints++;\n",
        "        \n",
        "        if (auxmax >= max1){                                        \n",
        "            max2 = max1;                                     \n",
        "            max1 = auxmax;\n",
        "            execints++;\n",
        "        }else if(max2 == 0 || auxmax >= max2){                  \n",
        "            max2 = auxmax;      \n",
        "            execints++;                            \n",
        "        }\n",
        "    }\n",
        "    cout << max1 * max2<<\"\\n\";\n",
        "    execints++;\n",
        "\n",
        "    cout <<\"executed instructions: \"<< execints << \"\\n\";\n",
        "    \n",
        "    return 0;\n",
        "}"
      ],
      "execution_count": null,
      "outputs": [
        {
          "output_type": "stream",
          "name": "stdout",
          "text": [
            "Overwriting supereffsol_execints.cpp\n"
          ]
        }
      ]
    },
    {
      "cell_type": "code",
      "metadata": {
        "colab": {
          "base_uri": "https://localhost:8080/"
        },
        "id": "OBQCU2W-oBjX",
        "outputId": "91e60220-20eb-4922-cba3-9d5e7a02cbb0"
      },
      "source": [
        "!g++ supereffsol_execints.cpp -o supereffsol_execints\n",
        "!./supereffsol_execints"
      ],
      "execution_count": null,
      "outputs": [
        {
          "output_type": "stream",
          "name": "stdout",
          "text": [
            "5\n",
            "2 4 7 5 80\n",
            "560\n",
            "executed instructions: 26\n"
          ]
        }
      ]
    },
    {
      "cell_type": "code",
      "metadata": {
        "colab": {
          "base_uri": "https://localhost:8080/"
        },
        "id": "ePt5Pi8Yo2PZ",
        "outputId": "5203b7cd-c2d9-4d46-dab9-b7b97c75a25e"
      },
      "source": [
        "!g++ supereffsol_execints.cpp -o supereffsol_execints\n",
        "!./supereffsol_execints < input1.txt\n",
        "!./supereffsol_execints < input2.txt\n",
        "!./supereffsol_execints < input3.txt"
      ],
      "execution_count": null,
      "outputs": [
        {
          "output_type": "stream",
          "name": "stdout",
          "text": [
            "90\n",
            "executed instructions: 46\n",
            "40000000000\n",
            "executed instructions: 29\n",
            "39999800000\n",
            "executed instructions: 800006\n"
          ]
        }
      ]
    },
    {
      "cell_type": "markdown",
      "metadata": {
        "id": "yae7sSm2IG9U"
      },
      "source": [
        "Calculate estimated time by instruction and number of instructions by second"
      ]
    },
    {
      "cell_type": "code",
      "metadata": {
        "id": "suouY7BYL2dz"
      },
      "source": [
        ""
      ],
      "execution_count": null,
      "outputs": []
    },
    {
      "cell_type": "markdown",
      "metadata": {
        "id": "rydCU4bFfrhG"
      },
      "source": [
        "## Python"
      ]
    },
    {
      "cell_type": "markdown",
      "metadata": {
        "id": "6n707zUXO0N0"
      },
      "source": [
        "Efficient cython file reading, string parsing, and array building\n",
        "\n",
        "https://stackoverflow.com/questions/37219875/efficient-cython-file-reading-string-parsing-and-array-building\n",
        "\n",
        "\n",
        "\n",
        "File PreProcessing With C and Cython\n",
        "\n",
        "https://github.com/EveryTimeIWill18/Cython_Repo/blob/master/FastFileProcessingWithCython.ipynb\n",
        "\n"
      ]
    },
    {
      "cell_type": "code",
      "metadata": {
        "id": "xwq0n_b4L3ML",
        "colab": {
          "base_uri": "https://localhost:8080/"
        },
        "outputId": "a19d370b-ffb6-484d-b376-f1b3a3a06441"
      },
      "source": [
        "%%writefile effsol_python.py\n",
        "def max_pairwise_product_Fast(numbers):\n",
        "    n = len(numbers)  \n",
        "    max_index1 = 0\n",
        "\n",
        "    for i in range(n):\n",
        "      if((max_index1 == 0) or (numbers[i] > numbers[max_index1])):\n",
        "        max_index1 = i\n",
        "\n",
        "\n",
        "    max_index2 = 0\n",
        "    for j in range (n):\n",
        "      if((j != max_index1) and ((max_index1 == 0) or (numbers[j] > numbers[max_index2]))):\n",
        "        max_index2 = j\n",
        "\n",
        "    return(numbers[max_index1] * numbers[max_index2])\n",
        "\n",
        "if __name__ == '__main__':\n",
        "  input_n = int(input())\n",
        "  input_numbers = [int(x) for x in input().split()]\n",
        "  print(max_pairwise_product_Fast(input_numbers))"
      ],
      "execution_count": null,
      "outputs": [
        {
          "output_type": "stream",
          "name": "stdout",
          "text": [
            "Writing effsol_python.py\n"
          ]
        }
      ]
    },
    {
      "cell_type": "markdown",
      "metadata": {
        "id": "3lCdevbVvaOz"
      },
      "source": [
        "Test with inputs 1, 2 and 3"
      ]
    },
    {
      "cell_type": "code",
      "metadata": {
        "colab": {
          "base_uri": "https://localhost:8080/"
        },
        "id": "ntvhN29Su0sD",
        "outputId": "01ca873b-2dde-40df-a9dc-7a0368ecac30"
      },
      "source": [
        "!python effsol_python.py < input1.txt\n",
        "!python effsol_python.py < input2.txt"
      ],
      "execution_count": null,
      "outputs": [
        {
          "output_type": "stream",
          "name": "stdout",
          "text": [
            "90\n",
            "40000000000\n"
          ]
        }
      ]
    },
    {
      "cell_type": "code",
      "metadata": {
        "colab": {
          "base_uri": "https://localhost:8080/"
        },
        "id": "E8bNvFtevTw6",
        "outputId": "54602aa7-5b35-495f-c0ce-b8f1f3204efa"
      },
      "source": [
        "!time python effsol_python.py < input3.txt"
      ],
      "execution_count": null,
      "outputs": [
        {
          "output_type": "stream",
          "name": "stdout",
          "text": [
            "39999800000\n",
            "\n",
            "real\t0m0.181s\n",
            "user\t0m0.142s\n",
            "sys\t0m0.038s\n"
          ]
        }
      ]
    },
    {
      "cell_type": "markdown",
      "metadata": {
        "id": "yYy7v0xBvqG5"
      },
      "source": [
        "20 stress test"
      ]
    },
    {
      "cell_type": "code",
      "metadata": {
        "colab": {
          "base_uri": "https://localhost:8080/"
        },
        "id": "07DZvtvZvpcR",
        "outputId": "bfd800a2-2fb0-4deb-c806-998c9f75da50"
      },
      "source": [
        "import random\n",
        "\n",
        "def max_pairwise_product(numbers):\n",
        "    n = len(numbers)\n",
        "    max_product = 0\n",
        "    for first in range(n):\n",
        "        for second in range(first + 1, n):\n",
        "            max_product = max(max_product,\n",
        "                numbers[first] * numbers[second])\n",
        "    return max_product\n",
        "\n",
        "def max_pairwise_product_Fast(numbers):\n",
        "    n = len(numbers)  \n",
        "    max_index1 = 0\n",
        "\n",
        "    for i in range(n):\n",
        "      if((max_index1 == 0) or (numbers[i] > numbers[max_index1])):\n",
        "        max_index1 = i\n",
        "\n",
        "\n",
        "    max_index2 = 0\n",
        "    for j in range (n):\n",
        "      if((j != max_index1) and ((max_index1 == 0) or (numbers[j] > numbers[max_index2]))):\n",
        "        max_index2 = j \n",
        "\n",
        "    #print (max_index1, \" \" , max_index2, \"\\n\" )\n",
        "    return(numbers[max_index1] * numbers[max_index2])\n",
        "\n",
        "\n",
        "if __name__ == '__main__':\n",
        "\n",
        "  j = 0\n",
        "  while(j<20):\n",
        "    n = (random.randint(2,20))\n",
        "    print(n)\n",
        "    a = []\n",
        "\n",
        "    for i in range(n):\n",
        "      a.append(random.randint(0,100000))\n",
        "    \n",
        "    for j in range(n):\n",
        "      print(a[j], end =\" \")\n",
        "    \n",
        "    res1 = max_pairwise_product(a)\n",
        "    res2 = max_pairwise_product_Fast(a)\n",
        "\n",
        "    if(res1 != res2):\n",
        "      print(\"Wrong answer: \", res1,\" \", res2, \"\\n\")\n",
        "    else:\n",
        "      print(\"\\nOK\\n\")\n",
        "    \n",
        "    j+=1\n",
        "    \n",
        "\n",
        "  #input_n = int(input())\n",
        "  #input_numbers = [int(x) for x in input().split()]\n",
        "  #print(max_pairwise_product_Fast(input_numbers))"
      ],
      "execution_count": null,
      "outputs": [
        {
          "output_type": "stream",
          "name": "stdout",
          "text": [
            "2\n",
            "32760 45180 \n",
            "OK\n",
            "\n",
            "6\n",
            "64107 80845 99791 24138 45660 3046 \n",
            "OK\n",
            "\n",
            "12\n",
            "90431 73716 46424 51280 29362 88781 97069 22000 38274 88665 60696 63613 \n",
            "OK\n",
            "\n",
            "8\n",
            "725 94875 19431 11098 27162 15867 58033 42719 \n",
            "OK\n",
            "\n",
            "16\n",
            "39568 63686 63046 87296 92799 53566 9814 65595 35292 65638 26632 2489 64446 62807 48703 27609 \n",
            "OK\n",
            "\n",
            "9\n",
            "22142 9893 83044 4041 20201 24549 73995 44331 99248 \n",
            "OK\n",
            "\n",
            "4\n",
            "95640 2256 25406 25965 \n",
            "OK\n",
            "\n",
            "15\n",
            "10661 71815 36158 69384 92405 87898 37894 78791 60628 84157 21946 22065 68502 8304 67139 \n",
            "OK\n",
            "\n",
            "15\n",
            "59865 8059 71126 41968 96901 33367 45582 31215 51923 4444 72495 29900 18969 4589 16761 \n",
            "OK\n",
            "\n",
            "16\n",
            "21587 28742 11947 49741 25891 4273 1005 37931 33290 51544 57105 63022 69949 29386 5413 19249 \n",
            "OK\n",
            "\n",
            "11\n",
            "56603 42715 64117 24194 76894 73000 9607 84807 90730 11123 75414 \n",
            "OK\n",
            "\n",
            "8\n",
            "78378 2785 42640 49850 53837 25533 49456 52135 \n",
            "OK\n",
            "\n",
            "16\n",
            "3713 94689 29580 11059 92932 80568 29048 48750 42698 87434 83270 91766 84342 61161 3281 7470 \n",
            "OK\n",
            "\n",
            "5\n",
            "63411 58718 5485 52733 14271 \n",
            "OK\n",
            "\n",
            "4\n",
            "62921 71105 25136 46591 \n",
            "OK\n",
            "\n",
            "12\n",
            "74981 99821 59633 87319 56317 17593 18617 12007 69730 74557 55277 92621 \n",
            "OK\n",
            "\n",
            "3\n",
            "77726 2003 23697 \n",
            "OK\n",
            "\n",
            "9\n",
            "43977 4902 82019 49514 88558 71786 93179 11889 18325 \n",
            "OK\n",
            "\n",
            "3\n",
            "66619 2453 24554 \n",
            "OK\n",
            "\n",
            "4\n",
            "75658 19692 22248 9372 \n",
            "OK\n",
            "\n",
            "11\n",
            "83110 44897 67181 9639 79414 53780 61442 87497 25939 63903 73883 \n",
            "OK\n",
            "\n",
            "12\n",
            "57099 48966 23358 97685 21552 78400 20198 31480 18246 40709 11582 16920 \n",
            "OK\n",
            "\n",
            "6\n",
            "6344 39274 59454 58840 87321 45119 \n",
            "OK\n",
            "\n",
            "7\n",
            "14990 59773 36746 75727 3472 48392 56447 \n",
            "OK\n",
            "\n",
            "13\n",
            "47460 27701 40984 6691 27653 43456 85161 32948 58831 71171 17371 7392 34790 \n",
            "OK\n",
            "\n",
            "14\n",
            "5012 54474 54196 7630 20089 9597 37505 44603 25246 21760 38797 6069 35712 7253 \n",
            "OK\n",
            "\n",
            "15\n",
            "15270 21936 82662 10437 50598 46591 80578 82065 27058 65075 43532 93779 46774 16723 72937 \n",
            "OK\n",
            "\n",
            "17\n",
            "16719 14993 57752 4919 48070 65020 50913 7090 75028 20833 7492 57888 28311 44702 4031 2614 93843 \n",
            "OK\n",
            "\n",
            "5\n",
            "64782 38580 27765 30048 1872 \n",
            "OK\n",
            "\n",
            "10\n",
            "77711 88450 563 8196 65094 67057 53141 30642 7262 66906 \n",
            "OK\n",
            "\n",
            "13\n",
            "39054 9971 31875 23422 34531 91825 17760 64301 72136 48441 40137 32384 6268 \n",
            "OK\n",
            "\n",
            "8\n",
            "27523 38561 13515 79341 93058 4768 66060 61379 \n",
            "OK\n",
            "\n",
            "6\n",
            "21414 32692 13355 34647 14173 37164 \n",
            "OK\n",
            "\n",
            "8\n",
            "67688 1895 48299 19028 16944 66723 24520 75657 \n",
            "OK\n",
            "\n",
            "14\n",
            "69840 4451 682 84437 29065 95227 60136 68023 34548 94186 16418 26202 49529 59003 \n",
            "OK\n",
            "\n",
            "20\n",
            "58821 95144 563 55928 66012 33140 44790 88173 32830 75277 53643 69717 59827 15001 5524 21555 42724 77857 62639 74368 \n",
            "OK\n",
            "\n"
          ]
        }
      ]
    },
    {
      "cell_type": "markdown",
      "metadata": {
        "id": "LkVxxlhl9H98"
      },
      "source": [
        "# Screenhsoots of the Coursera Submissions in C++ and Python"
      ]
    },
    {
      "cell_type": "markdown",
      "metadata": {
        "id": "M8Y9HL1HH7Oh"
      },
      "source": [
        "Sum of two digits C++ and python\n"
      ]
    },
    {
      "cell_type": "markdown",
      "metadata": {
        "id": "FRsK_FZ_BNJE"
      },
      "source": [
        "![AplusB](https://raw.githubusercontent.com/gimoralesg/AlgorithmsUN2021II/main/Lab7/pantallazo_ej1courseraAT.png)"
      ]
    },
    {
      "cell_type": "markdown",
      "metadata": {
        "id": "LWLGMSodIV9i"
      },
      "source": [
        "![AplusB](https://raw.githubusercontent.com/gimoralesg/AlgorithmsUN2021II/main/Lab7/pantallazo_sumA_B.png)"
      ]
    },
    {
      "cell_type": "markdown",
      "metadata": {
        "id": "W2T00YIDIgrx"
      },
      "source": [
        "Maximum pairwise product error\n",
        "![maxproderror](https://raw.githubusercontent.com/gimoralesg/AlgorithmsUN2021II/main/Lab7/max_product_error.png)"
      ]
    },
    {
      "cell_type": "markdown",
      "metadata": {
        "id": "T4V_EPD2I0dY"
      },
      "source": [
        "Maximum pairwise product C++ and Python\n",
        "\n",
        "![maxprodc++](https://raw.githubusercontent.com/gimoralesg/AlgorithmsUN2021II/main/Lab7/max_product_passed_cpp.png)"
      ]
    },
    {
      "cell_type": "markdown",
      "metadata": {
        "id": "RRXx4nViJAoP"
      },
      "source": [
        "![maxprodpy](https://raw.githubusercontent.com/gimoralesg/AlgorithmsUN2021II/main/Lab7/max_product_passed_py.png)"
      ]
    }
  ]
}